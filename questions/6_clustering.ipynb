{
 "cells": [
  {
   "cell_type": "code",
   "execution_count": null,
   "metadata": {},
   "outputs": [],
   "source": [
    "library(sf)\n",
    "library(ggplot2)\n",
    "library(\"rnaturalearth\")\n",
    "library(\"rnaturalearthdata\")\n",
    "library(dplyr)\n",
    "library(glue)"
   ]
  },
  {
   "cell_type": "code",
   "execution_count": null,
   "metadata": {},
   "outputs": [],
   "source": [
    "# 31s à s'exécuter sur Stuart\n",
    "data_full_dir = \"../data/donnees-synop-essentielles-omm.csv\"\n",
    "# 9s à s'exécuter sur stuart\n",
    "data_ext10_dir = \"../data/donnees_extracted_10.csv\"\n",
    "data_ext10M_dir = \"../data/donnees_extracted_metro_10.csv\"\n",
    "\n",
    "full_data <- read.csv(data_ext10_dir, \n",
    "            sep=\",\", # à toggle en fonction du fichier\n",
    "            na.string=c(\"\",\"null\",\"NaN\"),\n",
    "            header=TRUE, \n",
    "            stringsAsFactors=TRUE) # SI IL Y A DES PROBLÈMES BIZARRES PLUS LOIN, METTRE À FALSE"
   ]
  },
  {
   "cell_type": "markdown",
   "metadata": {},
   "source": [
    "## Critère : latitude et longitude"
   ]
  },
  {
   "cell_type": "code",
   "execution_count": null,
   "metadata": {},
   "outputs": [],
   "source": []
  },
  {
   "cell_type": "markdown",
   "metadata": {},
   "source": [
    "## Critère : "
   ]
  }
 ],
 "metadata": {
  "language_info": {
   "name": "python"
  },
  "orig_nbformat": 4
 },
 "nbformat": 4,
 "nbformat_minor": 2
}
