{
 "cells": [
  {
   "cell_type": "code",
   "execution_count": 1,
   "metadata": {
    "vscode": {
     "languageId": "r"
    }
   },
   "outputs": [],
   "source": [
    "full_data <- read.csv(\"./../data/donnees-synop-essentielles-omm.csv\", \n",
    "            sep=\";\", \n",
    "            na.string=c(\"\",\"null\",\"NaN\"),\n",
    "            header=TRUE, \n",
    "            stringsAsFactors=TRUE) # SI IL Y A DES PROBLÈMES BIZARRES PLUS LOIN, METTRE À FALSE"
   ]
  },
  {
   "cell_type": "code",
   "execution_count": 2,
   "metadata": {
    "vscode": {
     "languageId": "r"
    }
   },
   "outputs": [
    {
     "data": {
      "text/html": [
       "<table class=\"dataframe\">\n",
       "<caption>A data.frame: 6 × 82</caption>\n",
       "<thead>\n",
       "\t<tr><th></th><th scope=col>ID.OMM.station</th><th scope=col>Date</th><th scope=col>Pression.au.niveau.mer</th><th scope=col>Variation.de.pression.en.3.heures</th><th scope=col>Type.de.tendance.barométrique</th><th scope=col>Direction.du.vent.moyen.10.mn</th><th scope=col>Vitesse.du.vent.moyen.10.mn</th><th scope=col>Température</th><th scope=col>Point.de.rosée</th><th scope=col>Humidité</th><th scope=col>⋯</th><th scope=col>Altitude</th><th scope=col>communes..name.</th><th scope=col>communes..code.</th><th scope=col>EPCI..name.</th><th scope=col>EPCI..code.</th><th scope=col>department..name.</th><th scope=col>department..code.</th><th scope=col>region..name.</th><th scope=col>region..code.</th><th scope=col>mois_de_l_annee</th></tr>\n",
       "\t<tr><th></th><th scope=col>&lt;int&gt;</th><th scope=col>&lt;fct&gt;</th><th scope=col>&lt;int&gt;</th><th scope=col>&lt;dbl&gt;</th><th scope=col>&lt;int&gt;</th><th scope=col>&lt;int&gt;</th><th scope=col>&lt;dbl&gt;</th><th scope=col>&lt;dbl&gt;</th><th scope=col>&lt;dbl&gt;</th><th scope=col>&lt;int&gt;</th><th scope=col>⋯</th><th scope=col>&lt;int&gt;</th><th scope=col>&lt;fct&gt;</th><th scope=col>&lt;fct&gt;</th><th scope=col>&lt;fct&gt;</th><th scope=col>&lt;int&gt;</th><th scope=col>&lt;fct&gt;</th><th scope=col>&lt;fct&gt;</th><th scope=col>&lt;fct&gt;</th><th scope=col>&lt;int&gt;</th><th scope=col>&lt;int&gt;</th></tr>\n",
       "</thead>\n",
       "<tbody>\n",
       "\t<tr><th scope=row>1</th><td> 7181</td><td>2016-07-12T11:00:00+02:00</td><td>101410</td><td> -30</td><td> 8</td><td>230</td><td> 2.9</td><td>293.35</td><td>286.55</td><td>65</td><td>⋯</td><td>336</td><td>Thuilley-aux-Groseilles</td><td>54523</td><td>CC du Pays de Colombey et du Sud Toulois</td><td>245400510</td><td>Meurthe-et-Moselle</td><td>54 </td><td>Grand Est              </td><td>44</td><td> 7</td></tr>\n",
       "\t<tr><th scope=row>2</th><td>81405</td><td>2017-01-08T07:00:00+01:00</td><td>101140</td><td>-140</td><td> 8</td><td>240</td><td> 0.5</td><td>297.25</td><td>296.25</td><td>94</td><td>⋯</td><td>  4</td><td>Matoury                </td><td>97307</td><td>CA du Centre Littoral                   </td><td>249730045</td><td>Guyane            </td><td>973</td><td>Guyane                 </td><td> 3</td><td> 1</td></tr>\n",
       "\t<tr><th scope=row>3</th><td> 7627</td><td>2017-01-08T13:00:00+01:00</td><td>103380</td><td> -40</td><td> 8</td><td> 30</td><td> 2.1</td><td>277.55</td><td>269.75</td><td>57</td><td>⋯</td><td>414</td><td>Lorp-Sentaraille       </td><td>09289</td><td>CC Couserans-Pyrénées                   </td><td>200067940</td><td>Ariège            </td><td>09 </td><td>Occitanie              </td><td>76</td><td> 1</td></tr>\n",
       "\t<tr><th scope=row>4</th><td>78894</td><td>2017-01-09T13:00:00+01:00</td><td>101760</td><td>   0</td><td>NA</td><td>100</td><td> 2.3</td><td>298.15</td><td>291.35</td><td>66</td><td>⋯</td><td> 44</td><td>NA                     </td><td>NA   </td><td>NA                                      </td><td>       NA</td><td>NA                </td><td>NA </td><td>NA                     </td><td>NA</td><td> 1</td></tr>\n",
       "\t<tr><th scope=row>5</th><td> 7020</td><td>2017-01-12T13:00:00+01:00</td><td>100580</td><td>-710</td><td> 8</td><td>210</td><td>11.9</td><td>282.05</td><td>280.15</td><td>88</td><td>⋯</td><td>  6</td><td>La Hague               </td><td>50041</td><td>CA du Cotentin                          </td><td>200067205</td><td>Manche            </td><td>50 </td><td>Normandie              </td><td>28</td><td> 1</td></tr>\n",
       "\t<tr><th scope=row>6</th><td> 7280</td><td>2017-12-23T13:00:00+01:00</td><td>103830</td><td> -10</td><td> 0</td><td> 10</td><td> 2.7</td><td>280.75</td><td>278.35</td><td>85</td><td>⋯</td><td>219</td><td>Ouges                  </td><td>21473</td><td>Dijon Métropole                         </td><td>242100410</td><td>Côte-d'Or         </td><td>21 </td><td>Bourgogne-Franche-Comté</td><td>27</td><td>12</td></tr>\n",
       "</tbody>\n",
       "</table>\n"
      ],
      "text/latex": [
       "A data.frame: 6 × 82\n",
       "\\begin{tabular}{r|lllllllllllllllllllll}\n",
       "  & ID.OMM.station & Date & Pression.au.niveau.mer & Variation.de.pression.en.3.heures & Type.de.tendance.barométrique & Direction.du.vent.moyen.10.mn & Vitesse.du.vent.moyen.10.mn & Température & Point.de.rosée & Humidité & ⋯ & Altitude & communes..name. & communes..code. & EPCI..name. & EPCI..code. & department..name. & department..code. & region..name. & region..code. & mois\\_de\\_l\\_annee\\\\\n",
       "  & <int> & <fct> & <int> & <dbl> & <int> & <int> & <dbl> & <dbl> & <dbl> & <int> & ⋯ & <int> & <fct> & <fct> & <fct> & <int> & <fct> & <fct> & <fct> & <int> & <int>\\\\\n",
       "\\hline\n",
       "\t1 &  7181 & 2016-07-12T11:00:00+02:00 & 101410 &  -30 &  8 & 230 &  2.9 & 293.35 & 286.55 & 65 & ⋯ & 336 & Thuilley-aux-Groseilles & 54523 & CC du Pays de Colombey et du Sud Toulois & 245400510 & Meurthe-et-Moselle & 54  & Grand Est               & 44 &  7\\\\\n",
       "\t2 & 81405 & 2017-01-08T07:00:00+01:00 & 101140 & -140 &  8 & 240 &  0.5 & 297.25 & 296.25 & 94 & ⋯ &   4 & Matoury                 & 97307 & CA du Centre Littoral                    & 249730045 & Guyane             & 973 & Guyane                  &  3 &  1\\\\\n",
       "\t3 &  7627 & 2017-01-08T13:00:00+01:00 & 103380 &  -40 &  8 &  30 &  2.1 & 277.55 & 269.75 & 57 & ⋯ & 414 & Lorp-Sentaraille        & 09289 & CC Couserans-Pyrénées                    & 200067940 & Ariège             & 09  & Occitanie               & 76 &  1\\\\\n",
       "\t4 & 78894 & 2017-01-09T13:00:00+01:00 & 101760 &    0 & NA & 100 &  2.3 & 298.15 & 291.35 & 66 & ⋯ &  44 & NA                      & NA    & NA                                       &        NA & NA                 & NA  & NA                      & NA &  1\\\\\n",
       "\t5 &  7020 & 2017-01-12T13:00:00+01:00 & 100580 & -710 &  8 & 210 & 11.9 & 282.05 & 280.15 & 88 & ⋯ &   6 & La Hague                & 50041 & CA du Cotentin                           & 200067205 & Manche             & 50  & Normandie               & 28 &  1\\\\\n",
       "\t6 &  7280 & 2017-12-23T13:00:00+01:00 & 103830 &  -10 &  0 &  10 &  2.7 & 280.75 & 278.35 & 85 & ⋯ & 219 & Ouges                   & 21473 & Dijon Métropole                          & 242100410 & Côte-d'Or          & 21  & Bourgogne-Franche-Comté & 27 & 12\\\\\n",
       "\\end{tabular}\n"
      ],
      "text/markdown": [
       "\n",
       "A data.frame: 6 × 82\n",
       "\n",
       "| <!--/--> | ID.OMM.station &lt;int&gt; | Date &lt;fct&gt; | Pression.au.niveau.mer &lt;int&gt; | Variation.de.pression.en.3.heures &lt;dbl&gt; | Type.de.tendance.barométrique &lt;int&gt; | Direction.du.vent.moyen.10.mn &lt;int&gt; | Vitesse.du.vent.moyen.10.mn &lt;dbl&gt; | Température &lt;dbl&gt; | Point.de.rosée &lt;dbl&gt; | Humidité &lt;int&gt; | ⋯ ⋯ | Altitude &lt;int&gt; | communes..name. &lt;fct&gt; | communes..code. &lt;fct&gt; | EPCI..name. &lt;fct&gt; | EPCI..code. &lt;int&gt; | department..name. &lt;fct&gt; | department..code. &lt;fct&gt; | region..name. &lt;fct&gt; | region..code. &lt;int&gt; | mois_de_l_annee &lt;int&gt; |\n",
       "|---|---|---|---|---|---|---|---|---|---|---|---|---|---|---|---|---|---|---|---|---|---|\n",
       "| 1 |  7181 | 2016-07-12T11:00:00+02:00 | 101410 |  -30 |  8 | 230 |  2.9 | 293.35 | 286.55 | 65 | ⋯ | 336 | Thuilley-aux-Groseilles | 54523 | CC du Pays de Colombey et du Sud Toulois | 245400510 | Meurthe-et-Moselle | 54  | Grand Est               | 44 |  7 |\n",
       "| 2 | 81405 | 2017-01-08T07:00:00+01:00 | 101140 | -140 |  8 | 240 |  0.5 | 297.25 | 296.25 | 94 | ⋯ |   4 | Matoury                 | 97307 | CA du Centre Littoral                    | 249730045 | Guyane             | 973 | Guyane                  |  3 |  1 |\n",
       "| 3 |  7627 | 2017-01-08T13:00:00+01:00 | 103380 |  -40 |  8 |  30 |  2.1 | 277.55 | 269.75 | 57 | ⋯ | 414 | Lorp-Sentaraille        | 09289 | CC Couserans-Pyrénées                    | 200067940 | Ariège             | 09  | Occitanie               | 76 |  1 |\n",
       "| 4 | 78894 | 2017-01-09T13:00:00+01:00 | 101760 |    0 | NA | 100 |  2.3 | 298.15 | 291.35 | 66 | ⋯ |  44 | NA                      | NA    | NA                                       |        NA | NA                 | NA  | NA                      | NA |  1 |\n",
       "| 5 |  7020 | 2017-01-12T13:00:00+01:00 | 100580 | -710 |  8 | 210 | 11.9 | 282.05 | 280.15 | 88 | ⋯ |   6 | La Hague                | 50041 | CA du Cotentin                           | 200067205 | Manche             | 50  | Normandie               | 28 |  1 |\n",
       "| 6 |  7280 | 2017-12-23T13:00:00+01:00 | 103830 |  -10 |  0 |  10 |  2.7 | 280.75 | 278.35 | 85 | ⋯ | 219 | Ouges                   | 21473 | Dijon Métropole                          | 242100410 | Côte-d'Or          | 21  | Bourgogne-Franche-Comté | 27 | 12 |\n",
       "\n"
      ],
      "text/plain": [
       "  ID.OMM.station Date                      Pression.au.niveau.mer\n",
       "1  7181          2016-07-12T11:00:00+02:00 101410                \n",
       "2 81405          2017-01-08T07:00:00+01:00 101140                \n",
       "3  7627          2017-01-08T13:00:00+01:00 103380                \n",
       "4 78894          2017-01-09T13:00:00+01:00 101760                \n",
       "5  7020          2017-01-12T13:00:00+01:00 100580                \n",
       "6  7280          2017-12-23T13:00:00+01:00 103830                \n",
       "  Variation.de.pression.en.3.heures Type.de.tendance.barométrique\n",
       "1  -30                               8                           \n",
       "2 -140                               8                           \n",
       "3  -40                               8                           \n",
       "4    0                              NA                           \n",
       "5 -710                               8                           \n",
       "6  -10                               0                           \n",
       "  Direction.du.vent.moyen.10.mn Vitesse.du.vent.moyen.10.mn Température\n",
       "1 230                            2.9                        293.35     \n",
       "2 240                            0.5                        297.25     \n",
       "3  30                            2.1                        277.55     \n",
       "4 100                            2.3                        298.15     \n",
       "5 210                           11.9                        282.05     \n",
       "6  10                            2.7                        280.75     \n",
       "  Point.de.rosée Humidité ⋯ Altitude communes..name.         communes..code.\n",
       "1 286.55         65       ⋯ 336      Thuilley-aux-Groseilles 54523          \n",
       "2 296.25         94       ⋯   4      Matoury                 97307          \n",
       "3 269.75         57       ⋯ 414      Lorp-Sentaraille        09289          \n",
       "4 291.35         66       ⋯  44      NA                      NA             \n",
       "5 280.15         88       ⋯   6      La Hague                50041          \n",
       "6 278.35         85       ⋯ 219      Ouges                   21473          \n",
       "  EPCI..name.                              EPCI..code. department..name. \n",
       "1 CC du Pays de Colombey et du Sud Toulois 245400510   Meurthe-et-Moselle\n",
       "2 CA du Centre Littoral                    249730045   Guyane            \n",
       "3 CC Couserans-Pyrénées                    200067940   Ariège            \n",
       "4 NA                                              NA   NA                \n",
       "5 CA du Cotentin                           200067205   Manche            \n",
       "6 Dijon Métropole                          242100410   Côte-d'Or         \n",
       "  department..code. region..name.           region..code. mois_de_l_annee\n",
       "1 54                Grand Est               44             7             \n",
       "2 973               Guyane                   3             1             \n",
       "3 09                Occitanie               76             1             \n",
       "4 NA                NA                      NA             1             \n",
       "5 50                Normandie               28             1             \n",
       "6 21                Bourgogne-Franche-Comté 27            12             "
      ]
     },
     "metadata": {},
     "output_type": "display_data"
    },
    {
     "data": {
      "text/html": [
       "<style>\n",
       ".list-inline {list-style: none; margin:0; padding: 0}\n",
       ".list-inline>li {display: inline-block}\n",
       ".list-inline>li:not(:last-child)::after {content: \"\\00b7\"; padding: 0 .5ex}\n",
       "</style>\n",
       "<ol class=list-inline><li>'ID.OMM.station'</li><li>'Date'</li><li>'Pression.au.niveau.mer'</li><li>'Variation.de.pression.en.3.heures'</li><li>'Type.de.tendance.barométrique'</li><li>'Direction.du.vent.moyen.10.mn'</li><li>'Vitesse.du.vent.moyen.10.mn'</li><li>'Température'</li><li>'Point.de.rosée'</li><li>'Humidité'</li><li>'Visibilité.horizontale'</li><li>'Temps.présent'</li><li>'Temps.passé.1'</li><li>'Temps.passé.2'</li><li>'Nebulosité.totale'</li><li>'Nébulosité..des.nuages.de.l..étage.inférieur'</li><li>'Hauteur.de.la.base.des.nuages.de.l.étage.inférieur'</li><li>'Type.des.nuages.de.l.étage.inférieur'</li><li>'Type.des.nuages.de.l.étage.moyen'</li><li>'Type.des.nuages.de.l.étage.supérieur'</li><li>'Pression.station'</li><li>'Niveau.barométrique'</li><li>'Géopotentiel'</li><li>'Variation.de.pression.en.24.heures'</li><li>'Température.minimale.sur.12.heures'</li><li>'Température.minimale.sur.24.heures'</li><li>'Température.maximale.sur.12.heures'</li><li>'Température.maximale.sur.24.heures'</li><li>'Température.minimale.du.sol.sur.12.heures'</li><li>'Méthode.de.mesure.Température.du.thermomètre.mouillé'</li><li>'Température.du.thermomètre.mouillé'</li><li>'Rafale.sur.les.10.dernières.minutes'</li><li>'Rafales.sur.une.période'</li><li>'Periode.de.mesure.de.la.rafale'</li><li>'Etat.du.sol'</li><li>'Hauteur.totale.de.la.couche.de.neige..glace..autre.au.sol'</li><li>'Hauteur.de.la.neige.fraîche'</li><li>'Periode.de.mesure.de.la.neige.fraiche'</li><li>'Précipitations.dans.la.dernière.heure'</li><li>'Précipitations.dans.les.3.dernières.heures'</li><li>'Précipitations.dans.les.6.dernières.heures'</li><li>'Précipitations.dans.les.12.dernières.heures'</li><li>'Précipitations.dans.les.24.dernières.heures'</li><li>'Phénomène.spécial.1'</li><li>'Phénomène.spécial.2'</li><li>'Phénomène.spécial.3'</li><li>'Phénomène.spécial.4'</li><li>'Nébulosité.couche.nuageuse.1'</li><li>'Type.nuage.1'</li><li>'Hauteur.de.base.1'</li><li>'Nébulosité.couche.nuageuse.2'</li><li>'Type.nuage.2'</li><li>'Hauteur.de.base.2'</li><li>'Nébulosité.couche.nuageuse.3'</li><li>'Type.nuage.3'</li><li>'Hauteur.de.base.3'</li><li>'Nébulosité.couche.nuageuse.4'</li><li>'Type.nuage.4'</li><li>'Hauteur.de.base.4'</li><li>'Coordonnees'</li><li>'Nom'</li><li>'Type.de.tendance.barométrique.1'</li><li>'Temps.passé.1.1'</li><li>'Temps.présent.1'</li><li>'Température...C.'</li><li>'Température.minimale.sur.12.heures...C.'</li><li>'Température.minimale.sur.24.heures...C.'</li><li>'Température.maximale.sur.12.heures...C.'</li><li>'Température.maximale.sur.24.heures...C.'</li><li>'Température.minimale.du.sol.sur.12.heures..en..C.'</li><li>'Latitude'</li><li>'Longitude'</li><li>'Altitude'</li><li>'communes..name.'</li><li>'communes..code.'</li><li>'EPCI..name.'</li><li>'EPCI..code.'</li><li>'department..name.'</li><li>'department..code.'</li><li>'region..name.'</li><li>'region..code.'</li><li>'mois_de_l_annee'</li></ol>\n"
      ],
      "text/latex": [
       "\\begin{enumerate*}\n",
       "\\item 'ID.OMM.station'\n",
       "\\item 'Date'\n",
       "\\item 'Pression.au.niveau.mer'\n",
       "\\item 'Variation.de.pression.en.3.heures'\n",
       "\\item 'Type.de.tendance.barométrique'\n",
       "\\item 'Direction.du.vent.moyen.10.mn'\n",
       "\\item 'Vitesse.du.vent.moyen.10.mn'\n",
       "\\item 'Température'\n",
       "\\item 'Point.de.rosée'\n",
       "\\item 'Humidité'\n",
       "\\item 'Visibilité.horizontale'\n",
       "\\item 'Temps.présent'\n",
       "\\item 'Temps.passé.1'\n",
       "\\item 'Temps.passé.2'\n",
       "\\item 'Nebulosité.totale'\n",
       "\\item 'Nébulosité..des.nuages.de.l..étage.inférieur'\n",
       "\\item 'Hauteur.de.la.base.des.nuages.de.l.étage.inférieur'\n",
       "\\item 'Type.des.nuages.de.l.étage.inférieur'\n",
       "\\item 'Type.des.nuages.de.l.étage.moyen'\n",
       "\\item 'Type.des.nuages.de.l.étage.supérieur'\n",
       "\\item 'Pression.station'\n",
       "\\item 'Niveau.barométrique'\n",
       "\\item 'Géopotentiel'\n",
       "\\item 'Variation.de.pression.en.24.heures'\n",
       "\\item 'Température.minimale.sur.12.heures'\n",
       "\\item 'Température.minimale.sur.24.heures'\n",
       "\\item 'Température.maximale.sur.12.heures'\n",
       "\\item 'Température.maximale.sur.24.heures'\n",
       "\\item 'Température.minimale.du.sol.sur.12.heures'\n",
       "\\item 'Méthode.de.mesure.Température.du.thermomètre.mouillé'\n",
       "\\item 'Température.du.thermomètre.mouillé'\n",
       "\\item 'Rafale.sur.les.10.dernières.minutes'\n",
       "\\item 'Rafales.sur.une.période'\n",
       "\\item 'Periode.de.mesure.de.la.rafale'\n",
       "\\item 'Etat.du.sol'\n",
       "\\item 'Hauteur.totale.de.la.couche.de.neige..glace..autre.au.sol'\n",
       "\\item 'Hauteur.de.la.neige.fraîche'\n",
       "\\item 'Periode.de.mesure.de.la.neige.fraiche'\n",
       "\\item 'Précipitations.dans.la.dernière.heure'\n",
       "\\item 'Précipitations.dans.les.3.dernières.heures'\n",
       "\\item 'Précipitations.dans.les.6.dernières.heures'\n",
       "\\item 'Précipitations.dans.les.12.dernières.heures'\n",
       "\\item 'Précipitations.dans.les.24.dernières.heures'\n",
       "\\item 'Phénomène.spécial.1'\n",
       "\\item 'Phénomène.spécial.2'\n",
       "\\item 'Phénomène.spécial.3'\n",
       "\\item 'Phénomène.spécial.4'\n",
       "\\item 'Nébulosité.couche.nuageuse.1'\n",
       "\\item 'Type.nuage.1'\n",
       "\\item 'Hauteur.de.base.1'\n",
       "\\item 'Nébulosité.couche.nuageuse.2'\n",
       "\\item 'Type.nuage.2'\n",
       "\\item 'Hauteur.de.base.2'\n",
       "\\item 'Nébulosité.couche.nuageuse.3'\n",
       "\\item 'Type.nuage.3'\n",
       "\\item 'Hauteur.de.base.3'\n",
       "\\item 'Nébulosité.couche.nuageuse.4'\n",
       "\\item 'Type.nuage.4'\n",
       "\\item 'Hauteur.de.base.4'\n",
       "\\item 'Coordonnees'\n",
       "\\item 'Nom'\n",
       "\\item 'Type.de.tendance.barométrique.1'\n",
       "\\item 'Temps.passé.1.1'\n",
       "\\item 'Temps.présent.1'\n",
       "\\item 'Température...C.'\n",
       "\\item 'Température.minimale.sur.12.heures...C.'\n",
       "\\item 'Température.minimale.sur.24.heures...C.'\n",
       "\\item 'Température.maximale.sur.12.heures...C.'\n",
       "\\item 'Température.maximale.sur.24.heures...C.'\n",
       "\\item 'Température.minimale.du.sol.sur.12.heures..en..C.'\n",
       "\\item 'Latitude'\n",
       "\\item 'Longitude'\n",
       "\\item 'Altitude'\n",
       "\\item 'communes..name.'\n",
       "\\item 'communes..code.'\n",
       "\\item 'EPCI..name.'\n",
       "\\item 'EPCI..code.'\n",
       "\\item 'department..name.'\n",
       "\\item 'department..code.'\n",
       "\\item 'region..name.'\n",
       "\\item 'region..code.'\n",
       "\\item 'mois\\_de\\_l\\_annee'\n",
       "\\end{enumerate*}\n"
      ],
      "text/markdown": [
       "1. 'ID.OMM.station'\n",
       "2. 'Date'\n",
       "3. 'Pression.au.niveau.mer'\n",
       "4. 'Variation.de.pression.en.3.heures'\n",
       "5. 'Type.de.tendance.barométrique'\n",
       "6. 'Direction.du.vent.moyen.10.mn'\n",
       "7. 'Vitesse.du.vent.moyen.10.mn'\n",
       "8. 'Température'\n",
       "9. 'Point.de.rosée'\n",
       "10. 'Humidité'\n",
       "11. 'Visibilité.horizontale'\n",
       "12. 'Temps.présent'\n",
       "13. 'Temps.passé.1'\n",
       "14. 'Temps.passé.2'\n",
       "15. 'Nebulosité.totale'\n",
       "16. 'Nébulosité..des.nuages.de.l..étage.inférieur'\n",
       "17. 'Hauteur.de.la.base.des.nuages.de.l.étage.inférieur'\n",
       "18. 'Type.des.nuages.de.l.étage.inférieur'\n",
       "19. 'Type.des.nuages.de.l.étage.moyen'\n",
       "20. 'Type.des.nuages.de.l.étage.supérieur'\n",
       "21. 'Pression.station'\n",
       "22. 'Niveau.barométrique'\n",
       "23. 'Géopotentiel'\n",
       "24. 'Variation.de.pression.en.24.heures'\n",
       "25. 'Température.minimale.sur.12.heures'\n",
       "26. 'Température.minimale.sur.24.heures'\n",
       "27. 'Température.maximale.sur.12.heures'\n",
       "28. 'Température.maximale.sur.24.heures'\n",
       "29. 'Température.minimale.du.sol.sur.12.heures'\n",
       "30. 'Méthode.de.mesure.Température.du.thermomètre.mouillé'\n",
       "31. 'Température.du.thermomètre.mouillé'\n",
       "32. 'Rafale.sur.les.10.dernières.minutes'\n",
       "33. 'Rafales.sur.une.période'\n",
       "34. 'Periode.de.mesure.de.la.rafale'\n",
       "35. 'Etat.du.sol'\n",
       "36. 'Hauteur.totale.de.la.couche.de.neige..glace..autre.au.sol'\n",
       "37. 'Hauteur.de.la.neige.fraîche'\n",
       "38. 'Periode.de.mesure.de.la.neige.fraiche'\n",
       "39. 'Précipitations.dans.la.dernière.heure'\n",
       "40. 'Précipitations.dans.les.3.dernières.heures'\n",
       "41. 'Précipitations.dans.les.6.dernières.heures'\n",
       "42. 'Précipitations.dans.les.12.dernières.heures'\n",
       "43. 'Précipitations.dans.les.24.dernières.heures'\n",
       "44. 'Phénomène.spécial.1'\n",
       "45. 'Phénomène.spécial.2'\n",
       "46. 'Phénomène.spécial.3'\n",
       "47. 'Phénomène.spécial.4'\n",
       "48. 'Nébulosité.couche.nuageuse.1'\n",
       "49. 'Type.nuage.1'\n",
       "50. 'Hauteur.de.base.1'\n",
       "51. 'Nébulosité.couche.nuageuse.2'\n",
       "52. 'Type.nuage.2'\n",
       "53. 'Hauteur.de.base.2'\n",
       "54. 'Nébulosité.couche.nuageuse.3'\n",
       "55. 'Type.nuage.3'\n",
       "56. 'Hauteur.de.base.3'\n",
       "57. 'Nébulosité.couche.nuageuse.4'\n",
       "58. 'Type.nuage.4'\n",
       "59. 'Hauteur.de.base.4'\n",
       "60. 'Coordonnees'\n",
       "61. 'Nom'\n",
       "62. 'Type.de.tendance.barométrique.1'\n",
       "63. 'Temps.passé.1.1'\n",
       "64. 'Temps.présent.1'\n",
       "65. 'Température...C.'\n",
       "66. 'Température.minimale.sur.12.heures...C.'\n",
       "67. 'Température.minimale.sur.24.heures...C.'\n",
       "68. 'Température.maximale.sur.12.heures...C.'\n",
       "69. 'Température.maximale.sur.24.heures...C.'\n",
       "70. 'Température.minimale.du.sol.sur.12.heures..en..C.'\n",
       "71. 'Latitude'\n",
       "72. 'Longitude'\n",
       "73. 'Altitude'\n",
       "74. 'communes..name.'\n",
       "75. 'communes..code.'\n",
       "76. 'EPCI..name.'\n",
       "77. 'EPCI..code.'\n",
       "78. 'department..name.'\n",
       "79. 'department..code.'\n",
       "80. 'region..name.'\n",
       "81. 'region..code.'\n",
       "82. 'mois_de_l_annee'\n",
       "\n",
       "\n"
      ],
      "text/plain": [
       " [1] \"ID.OMM.station\"                                           \n",
       " [2] \"Date\"                                                     \n",
       " [3] \"Pression.au.niveau.mer\"                                   \n",
       " [4] \"Variation.de.pression.en.3.heures\"                        \n",
       " [5] \"Type.de.tendance.barométrique\"                            \n",
       " [6] \"Direction.du.vent.moyen.10.mn\"                            \n",
       " [7] \"Vitesse.du.vent.moyen.10.mn\"                              \n",
       " [8] \"Température\"                                              \n",
       " [9] \"Point.de.rosée\"                                           \n",
       "[10] \"Humidité\"                                                 \n",
       "[11] \"Visibilité.horizontale\"                                   \n",
       "[12] \"Temps.présent\"                                            \n",
       "[13] \"Temps.passé.1\"                                            \n",
       "[14] \"Temps.passé.2\"                                            \n",
       "[15] \"Nebulosité.totale\"                                        \n",
       "[16] \"Nébulosité..des.nuages.de.l..étage.inférieur\"             \n",
       "[17] \"Hauteur.de.la.base.des.nuages.de.l.étage.inférieur\"       \n",
       "[18] \"Type.des.nuages.de.l.étage.inférieur\"                     \n",
       "[19] \"Type.des.nuages.de.l.étage.moyen\"                         \n",
       "[20] \"Type.des.nuages.de.l.étage.supérieur\"                     \n",
       "[21] \"Pression.station\"                                         \n",
       "[22] \"Niveau.barométrique\"                                      \n",
       "[23] \"Géopotentiel\"                                             \n",
       "[24] \"Variation.de.pression.en.24.heures\"                       \n",
       "[25] \"Température.minimale.sur.12.heures\"                       \n",
       "[26] \"Température.minimale.sur.24.heures\"                       \n",
       "[27] \"Température.maximale.sur.12.heures\"                       \n",
       "[28] \"Température.maximale.sur.24.heures\"                       \n",
       "[29] \"Température.minimale.du.sol.sur.12.heures\"                \n",
       "[30] \"Méthode.de.mesure.Température.du.thermomètre.mouillé\"     \n",
       "[31] \"Température.du.thermomètre.mouillé\"                       \n",
       "[32] \"Rafale.sur.les.10.dernières.minutes\"                      \n",
       "[33] \"Rafales.sur.une.période\"                                  \n",
       "[34] \"Periode.de.mesure.de.la.rafale\"                           \n",
       "[35] \"Etat.du.sol\"                                              \n",
       "[36] \"Hauteur.totale.de.la.couche.de.neige..glace..autre.au.sol\"\n",
       "[37] \"Hauteur.de.la.neige.fraîche\"                              \n",
       "[38] \"Periode.de.mesure.de.la.neige.fraiche\"                    \n",
       "[39] \"Précipitations.dans.la.dernière.heure\"                    \n",
       "[40] \"Précipitations.dans.les.3.dernières.heures\"               \n",
       "[41] \"Précipitations.dans.les.6.dernières.heures\"               \n",
       "[42] \"Précipitations.dans.les.12.dernières.heures\"              \n",
       "[43] \"Précipitations.dans.les.24.dernières.heures\"              \n",
       "[44] \"Phénomène.spécial.1\"                                      \n",
       "[45] \"Phénomène.spécial.2\"                                      \n",
       "[46] \"Phénomène.spécial.3\"                                      \n",
       "[47] \"Phénomène.spécial.4\"                                      \n",
       "[48] \"Nébulosité.couche.nuageuse.1\"                             \n",
       "[49] \"Type.nuage.1\"                                             \n",
       "[50] \"Hauteur.de.base.1\"                                        \n",
       "[51] \"Nébulosité.couche.nuageuse.2\"                             \n",
       "[52] \"Type.nuage.2\"                                             \n",
       "[53] \"Hauteur.de.base.2\"                                        \n",
       "[54] \"Nébulosité.couche.nuageuse.3\"                             \n",
       "[55] \"Type.nuage.3\"                                             \n",
       "[56] \"Hauteur.de.base.3\"                                        \n",
       "[57] \"Nébulosité.couche.nuageuse.4\"                             \n",
       "[58] \"Type.nuage.4\"                                             \n",
       "[59] \"Hauteur.de.base.4\"                                        \n",
       "[60] \"Coordonnees\"                                              \n",
       "[61] \"Nom\"                                                      \n",
       "[62] \"Type.de.tendance.barométrique.1\"                          \n",
       "[63] \"Temps.passé.1.1\"                                          \n",
       "[64] \"Temps.présent.1\"                                          \n",
       "[65] \"Température...C.\"                                         \n",
       "[66] \"Température.minimale.sur.12.heures...C.\"                  \n",
       "[67] \"Température.minimale.sur.24.heures...C.\"                  \n",
       "[68] \"Température.maximale.sur.12.heures...C.\"                  \n",
       "[69] \"Température.maximale.sur.24.heures...C.\"                  \n",
       "[70] \"Température.minimale.du.sol.sur.12.heures..en..C.\"        \n",
       "[71] \"Latitude\"                                                 \n",
       "[72] \"Longitude\"                                                \n",
       "[73] \"Altitude\"                                                 \n",
       "[74] \"communes..name.\"                                          \n",
       "[75] \"communes..code.\"                                          \n",
       "[76] \"EPCI..name.\"                                              \n",
       "[77] \"EPCI..code.\"                                              \n",
       "[78] \"department..name.\"                                        \n",
       "[79] \"department..code.\"                                        \n",
       "[80] \"region..name.\"                                            \n",
       "[81] \"region..code.\"                                            \n",
       "[82] \"mois_de_l_annee\"                                          "
      ]
     },
     "metadata": {},
     "output_type": "display_data"
    }
   ],
   "source": [
    "head(full_data)\n",
    "names(full_data)"
   ]
  },
  {
   "cell_type": "code",
   "execution_count": 5,
   "metadata": {
    "vscode": {
     "languageId": "r"
    }
   },
   "outputs": [
    {
     "name": "stderr",
     "output_type": "stream",
     "text": [
      "\n",
      "Attachement du package : ‘dplyr’\n",
      "\n",
      "\n",
      "Les objets suivants sont masqués depuis ‘package:stats’:\n",
      "\n",
      "    filter, lag\n",
      "\n",
      "\n",
      "Les objets suivants sont masqués depuis ‘package:base’:\n",
      "\n",
      "    intersect, setdiff, setequal, union\n",
      "\n",
      "\n"
     ]
    }
   ],
   "source": [
    "library(dplyr)"
   ]
  },
  {
   "cell_type": "code",
   "execution_count": 17,
   "metadata": {
    "vscode": {
     "languageId": "r"
    }
   },
   "outputs": [
    {
     "name": "stdout",
     "output_type": "stream",
     "text": [
      "Nombre de mesures pour la region Occitanie  :  203854"
     ]
    },
    {
     "data": {
      "text/html": [
       "<style>\n",
       ".dl-inline {width: auto; margin:0; padding: 0}\n",
       ".dl-inline>dt, .dl-inline>dd {float: none; width: auto; display: inline-block}\n",
       ".dl-inline>dt::after {content: \":\\0020\"; padding-right: .5ex}\n",
       ".dl-inline>dt:not(:first-of-type) {padding-left: .5ex}\n",
       "</style><dl class=dl-inline><dt>Vitesse.du.vent.moyen.10.mn</dt><dd>176</dd><dt>Précipitations.dans.les.24.dernières.heures</dt><dd>10949</dd></dl>\n"
      ],
      "text/latex": [
       "\\begin{description*}\n",
       "\\item[Vitesse.du.vent.moyen.10.mn] 176\n",
       "\\item[Précipitations.dans.les.24.dernières.heures] 10949\n",
       "\\end{description*}\n"
      ],
      "text/markdown": [
       "Vitesse.du.vent.moyen.10.mn\n",
       ":   176Précipitations.dans.les.24.dernières.heures\n",
       ":   10949\n",
       "\n"
      ],
      "text/plain": [
       "                Vitesse.du.vent.moyen.10.mn \n",
       "                                        176 \n",
       "Précipitations.dans.les.24.dernières.heures \n",
       "                                      10949 "
      ]
     },
     "metadata": {},
     "output_type": "display_data"
    },
    {
     "name": "stdout",
     "output_type": "stream",
     "text": [
      "Nombre de mesures pour la region Occitanie  après nettoyage :  192759"
     ]
    }
   ],
   "source": [
    "# Filtrer les données pour une région\n",
    "region <- \"Occitanie\"\n",
    "df_region <- full_data %>% filter(`region..name.` == region)\n",
    "cat(\"Nombre de mesures pour la region\",region,\" : \",nrow(df_region))\n",
    "\n",
    "# Supprimer les lignes avec des valeurs manquantes pour les deux variables\n",
    "colSums(is.na(df_region[, c(\"Vitesse.du.vent.moyen.10.mn\", \"Précipitations.dans.les.24.dernières.heures\")]))\n",
    "df_region_clean <- df_region %>%\n",
    "  filter(!is.na(`Vitesse.du.vent.moyen.10.mn`), !is.na(`Précipitations.dans.les.24.dernières.heures`))\n",
    "\n",
    "# Vérifier le nombre d'observations restantes\n",
    "cat(\"Nombre de mesures pour la region\",region,\" après nettoyage : \",nrow(df_region_clean))"
   ]
  },
  {
   "cell_type": "code",
   "execution_count": 22,
   "metadata": {
    "vscode": {
     "languageId": "r"
    }
   },
   "outputs": [],
   "source": [
    "df_region_clean <- df_region_clean %>%\n",
    "  mutate(\n",
    "    saison = case_when(\n",
    "      mois_de_l_annee %in% c(12, 1, 2) ~ \"Hiver\",\n",
    "      mois_de_l_annee %in% c(3, 4, 5) ~ \"Printemps\",\n",
    "      mois_de_l_annee %in% c(6, 7, 8) ~ \"Été\",\n",
    "      mois_de_l_annee %in% c(9, 10, 11) ~ \"Automne\"\n",
    "    )\n",
    "  )\n"
   ]
  },
  {
   "attachments": {},
   "cell_type": "markdown",
   "metadata": {},
   "source": [
    "# Nous allons comparer les vitesses de vent moyennes :\n",
    "\n",
    "Hypothèses :\n",
    "\n",
    "H₀ : La vitesse de vent moyenne est la même en hiver et en été.\n",
    "\n",
    "H₁ : La vitesse de vent moyenne est différente en hiver et en été."
   ]
  },
  {
   "cell_type": "code",
   "execution_count": 23,
   "metadata": {
    "vscode": {
     "languageId": "r"
    }
   },
   "outputs": [
    {
     "data": {
      "text/html": [
       "<style>\n",
       ".list-inline {list-style: none; margin:0; padding: 0}\n",
       ".list-inline>li {display: inline-block}\n",
       ".list-inline>li:not(:last-child)::after {content: \"\\00b7\"; padding: 0 .5ex}\n",
       "</style>\n",
       "<ol class=list-inline><li>1</li><li>12</li><li>7</li><li>10</li><li>9</li><li>6</li><li>4</li><li>2</li><li>3</li><li>5</li><li>11</li><li>8</li></ol>\n"
      ],
      "text/latex": [
       "\\begin{enumerate*}\n",
       "\\item 1\n",
       "\\item 12\n",
       "\\item 7\n",
       "\\item 10\n",
       "\\item 9\n",
       "\\item 6\n",
       "\\item 4\n",
       "\\item 2\n",
       "\\item 3\n",
       "\\item 5\n",
       "\\item 11\n",
       "\\item 8\n",
       "\\end{enumerate*}\n"
      ],
      "text/markdown": [
       "1. 1\n",
       "2. 12\n",
       "3. 7\n",
       "4. 10\n",
       "5. 9\n",
       "6. 6\n",
       "7. 4\n",
       "8. 2\n",
       "9. 3\n",
       "10. 5\n",
       "11. 11\n",
       "12. 8\n",
       "\n",
       "\n"
      ],
      "text/plain": [
       " [1]  1 12  7 10  9  6  4  2  3  5 11  8"
      ]
     },
     "metadata": {},
     "output_type": "display_data"
    },
    {
     "data": {
      "text/plain": [
       "\n",
       "  Automne       Été     Hiver Printemps \n",
       "    48050     49326     47547     47836 "
      ]
     },
     "metadata": {},
     "output_type": "display_data"
    }
   ],
   "source": [
    "unique(df_region_clean$mois_de_l_annee)\n",
    "table(df_region_clean$saison)"
   ]
  },
  {
   "cell_type": "code",
   "execution_count": 24,
   "metadata": {
    "vscode": {
     "languageId": "r"
    }
   },
   "outputs": [
    {
     "name": "stdout",
     "output_type": "stream",
     "text": [
      "\n",
      "\tWelch Two Sample t-test\n",
      "\n",
      "data:  vent_hiver and vent_ete\n",
      "t = 14.748, df = 90582, p-value < 2.2e-16\n",
      "alternative hypothesis: true difference in means is not equal to 0\n",
      "95 percent confidence interval:\n",
      " 0.2027977 0.2649630\n",
      "sample estimates:\n",
      "mean of x mean of y \n",
      " 3.408985  3.175104 \n",
      "\n"
     ]
    }
   ],
   "source": [
    "# Extraire les vitesses de vent pour l'hiver et l'été\n",
    "vent_hiver <- df_region_clean %>% filter(saison == \"Hiver\") %>% pull(`Vitesse.du.vent.moyen.10.mn`)\n",
    "vent_ete <- df_region_clean %>% filter(saison == \"Été\") %>% pull(`Vitesse.du.vent.moyen.10.mn`)\n",
    "\n",
    "# Effectuer le test t de Welch\n",
    "resultat_vent <- t.test(vent_hiver, vent_ete)\n",
    "\n",
    "# Afficher le résultat\n",
    "print(resultat_vent)"
   ]
  },
  {
   "attachments": {},
   "cell_type": "markdown",
   "metadata": {},
   "source": [
    "La distribution n'est donc pas normal"
   ]
  },
  {
   "attachments": {},
   "cell_type": "markdown",
   "metadata": {},
   "source": [
    "La p-valeur du test est bien inferieur à 0.05, on peut donc rejetter H₀. Autrement dit, il existe une différence statistiquement significative entre les vitesses de vent moyennes en hiver et en été en Occitanie."
   ]
  },
  {
   "attachments": {},
   "cell_type": "markdown",
   "metadata": {},
   "source": [
    "# A-t-on réalisé un test adapté ?"
   ]
  },
  {
   "cell_type": "code",
   "execution_count": 28,
   "metadata": {
    "vscode": {
     "languageId": "r"
    }
   },
   "outputs": [
    {
     "name": "stdout",
     "output_type": "stream",
     "text": [
      "\n",
      "\tShapiro-Wilk normality test\n",
      "\n",
      "data:  vent_hiver_sample\n",
      "W = 0.86831, p-value < 2.2e-16\n",
      "\n",
      "\n",
      "\tShapiro-Wilk normality test\n",
      "\n",
      "data:  vent_ete_sample\n",
      "W = 0.92267, p-value < 2.2e-16\n",
      "\n"
     ]
    }
   ],
   "source": [
    "# Échantillonnage aléatoire pour le test de Shapiro-Wilk\n",
    "set.seed(123)  # Pour la reproductibilité\n",
    "vent_hiver_sample <- sample(vent_hiver, min(5000, length(vent_hiver)))\n",
    "vent_ete_sample <- sample(vent_ete, min(5000, length(vent_ete)))\n",
    "\n",
    "# Test de Shapiro-Wilk sur les échantillons\n",
    "shapiro_hiver <- shapiro.test(vent_hiver_sample)\n",
    "shapiro_ete <- shapiro.test(vent_ete_sample)\n",
    "\n",
    "# Affichage des résultats\n",
    "print(shapiro_hiver)\n",
    "print(shapiro_ete)"
   ]
  },
  {
   "attachments": {},
   "cell_type": "markdown",
   "metadata": {},
   "source": [
    "Les variances ne sont pas égales, un test de Welsh et non de Student est donc adapté."
   ]
  },
  {
   "attachments": {},
   "cell_type": "markdown",
   "metadata": {},
   "source": [
    "# Représentation des histogrammes"
   ]
  },
  {
   "cell_type": "code",
   "execution_count": 36,
   "metadata": {
    "vscode": {
     "languageId": "r"
    }
   },
   "outputs": [
    {
     "data": {
      "image/png": "[encoded data removed]",
      "text/plain": [
       "Plot with title “Vitesse de vent - Été”"
      ]
     },
     "metadata": {
      "image/png": {
       "height": 420,
       "width": 420
      }
     },
     "output_type": "display_data"
    }
   ],
   "source": [
    "# Visualisation des distributions\n",
    "par(mfrow = c(1,2))\n",
    "hist(vent_hiver, main = \"Vitesse de vent - Hiver\")\n",
    "hist(vent_ete, main = \"Vitesse de vent - Été\")\n"
   ]
  },
  {
   "attachments": {},
   "cell_type": "markdown",
   "metadata": {},
   "source": [
    "En hiver :\n",
    "- Distribution asymétrique\n",
    "- Pic marqué pour les faibles vitesses de vent\n",
    "- Présence de valeurs extrêmes\n",
    "\n",
    "En été : \n",
    "- Distribution plus symétrique qu'on hiver mais toujours asymétrique\n",
    "- Pic plus prononcé pour les faibles vitesses, donc moins de vents très forts"
   ]
  },
  {
   "attachments": {},
   "cell_type": "markdown",
   "metadata": {},
   "source": [
    "# Test d'hompgénéité des variances"
   ]
  },
  {
   "cell_type": "code",
   "execution_count": 39,
   "metadata": {
    "vscode": {
     "languageId": "r"
    }
   },
   "outputs": [
    {
     "data": {
      "text/plain": [
       "\n",
       "\tF test to compare two variances\n",
       "\n",
       "data:  vent_hiver and vent_ete\n",
       "F = 1.5898, num df = 47546, denom df = 49325, p-value < 2.2e-16\n",
       "alternative hypothesis: true ratio of variances is not equal to 1\n",
       "95 percent confidence interval:\n",
       " 1.561781 1.618429\n",
       "sample estimates:\n",
       "ratio of variances \n",
       "           1.58985 \n"
      ]
     },
     "metadata": {},
     "output_type": "display_data"
    }
   ],
   "source": [
    "var.test(vent_hiver, vent_ete)"
   ]
  },
  {
   "attachments": {},
   "cell_type": "markdown",
   "metadata": {},
   "source": [
    "Au vus de la p-value (<2.2e-16), on conclue que les variances sont significativement différentes entre es deux saisons.\n",
    "\n",
    "La variance en hiver est 1.59 fois plus grance qu'en été."
   ]
  },
  {
   "attachments": {},
   "cell_type": "markdown",
   "metadata": {},
   "source": [
    "# Test de Wiloxon"
   ]
  },
  {
   "cell_type": "code",
   "execution_count": 38,
   "metadata": {
    "vscode": {
     "languageId": "r"
    }
   },
   "outputs": [
    {
     "data": {
      "text/plain": [
       "\n",
       "\tWilcoxon rank sum test with continuity correction\n",
       "\n",
       "data:  vent_hiver and vent_ete\n",
       "W = 1174729078, p-value = 0.633\n",
       "alternative hypothesis: true location shift is not equal to 0\n"
      ]
     },
     "metadata": {},
     "output_type": "display_data"
    }
   ],
   "source": [
    "wilcox.test(vent_hiver, vent_ete)"
   ]
  },
  {
   "attachments": {},
   "cell_type": "markdown",
   "metadata": {},
   "source": [
    "p-value = 0.633, les valeurs médianes ne présentent pas de différence significative. "
   ]
  },
  {
   "cell_type": "code",
   "execution_count": 27,
   "metadata": {
    "vscode": {
     "languageId": "r"
    }
   },
   "outputs": [
    {
     "name": "stderr",
     "output_type": "stream",
     "text": [
      "Warning message:\n",
      "“\u001b[1m\u001b[22mUsing `size` aesthetic for lines was deprecated in ggplot2 3.4.0.\n",
      "\u001b[36mℹ\u001b[39m Please use `linewidth` instead.”\n"
     ]
    },
    {
     "data": {
      "image/png": "[encoded data removed]",
      "text/plain": [
       "plot without title"
      ]
     },
     "metadata": {
      "image/png": {
       "height": 420,
       "width": 420
      }
     },
     "output_type": "display_data"
    }
   ],
   "source": [
    "library(ggplot2)\n",
    "\n",
    "# Créer un data frame pour ggplot\n",
    "df_plot <- data.frame(\n",
    "  vitesse = c(vent_hiver, vent_ete),\n",
    "  saison = rep(c(\"Hiver\", \"Été\"), c(length(vent_hiver), length(vent_ete)))\n",
    ")\n",
    "\n",
    "# Histogrammes superposés\n",
    "ggplot(df_plot, aes(x = vitesse, fill = saison)) +\n",
    "  geom_histogram(alpha = 0.5, position = \"identity\", bins = 50) +\n",
    "  geom_vline(aes(xintercept = mean(vent_hiver), color = \"Moyenne Hiver\"), linetype = \"dashed\", size = 1) +\n",
    "  geom_vline(aes(xintercept = median(vent_hiver), color = \"Médiane Hiver\"), linetype = \"dotted\", size = 1) +\n",
    "  geom_vline(aes(xintercept = mean(vent_ete), color = \"Moyenne Été\"), linetype = \"dashed\", size = 1) +\n",
    "  geom_vline(aes(xintercept = median(vent_ete), color = \"Médiane Été\"), linetype = \"dotted\", size = 1) +\n",
    "  labs(title = \"Distribution des vitesses de vent : Hiver vs Été en Occitanie\",\n",
    "       x = \"Vitesse du vent (m/s)\", y = \"Fréquence\") +\n",
    "  scale_color_manual(values = c(\"blue\", \"red\", \"darkblue\", \"darkred\")) +\n",
    "  theme_minimal()\n"
   ]
  },
  {
   "attachments": {},
   "cell_type": "markdown",
   "metadata": {},
   "source": [
    "# Bilan des tests de vitesse de vent pour l'Occitanie\n",
    "\n",
    "En Occitanie, les vitesses de vent moyennes sont significativement plus élevées en hiver qu’en été (test t de Welch, p < 2.2e-16), avec une différence moyenne de 0.23 m/s. Cette différence est principalement due à une plus grande fréquence de vents forts en hiver, comme le montre l’asymétrie de la distribution. En effet, bien que les médianes ne diffèrent pas significativement (test de Wilcoxon, p = 0.633), les valeurs extrêmes en hiver tirent la moyenne vers le haut. De plus, les vitesses de vent en hiver sont plus variables (test F, p < 2.2e-16), ce qui reflète une plus grande dispersion des conditions météo pendant cette saison."
   ]
  }
 ],
 "metadata": {
  "kernelspec": {
   "display_name": "R",
   "language": "R",
   "name": "ir"
  },
  "language_info": {
   "codemirror_mode": "r",
   "file_extension": ".r",
   "mimetype": "text/x-r-source",
   "name": "R",
   "pygments_lexer": "r",
   "version": "4.5.1"
  },
  "orig_nbformat": 4,
  "vscode": {
   "interpreter": {
    "hash": "aee8b7b246df8f9039afb4144a1f6fd8d2ca17a180786b69acc140d282b71a49"
   }
  }
 },
 "nbformat": 4,
 "nbformat_minor": 2
}
