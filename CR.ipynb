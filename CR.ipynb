{
 "cells": [
  {
   "cell_type": "markdown",
   "metadata": {},
   "source": [
    "# Compte Rendu BE Météo #\n",
    "\n",
    "## ALBRECHT Niels ##\n",
    "\n",
    "## POURÉ Thomas ##\n",
    "\n",
    "## RAMILISON Hugo ##"
   ]
  },
  {
   "attachments": {},
   "cell_type": "markdown",
   "metadata": {},
   "source": [
    "Import des librairies : "
   ]
  },
  {
   "cell_type": "code",
   "execution_count": 1,
   "metadata": {},
   "outputs": [],
   "source": [
    "import pandas as pd\n",
    "import numpy as np\n",
    "import matplotlib.pyplot as plt"
   ]
  },
  {
   "attachments": {},
   "cell_type": "markdown",
   "metadata": {},
   "source": [
    "Téléchargement des données : "
   ]
  },
  {
   "cell_type": "code",
   "execution_count": 2,
   "metadata": {},
   "outputs": [
    {
     "data": {
      "text/html": [
       "<div>\n",
       "<style scoped>\n",
       "    .dataframe tbody tr th:only-of-type {\n",
       "        vertical-align: middle;\n",
       "    }\n",
       "\n",
       "    .dataframe tbody tr th {\n",
       "        vertical-align: top;\n",
       "    }\n",
       "\n",
       "    .dataframe thead th {\n",
       "        text-align: right;\n",
       "    }\n",
       "</style>\n",
       "<table border=\"1\" class=\"dataframe\">\n",
       "  <thead>\n",
       "    <tr style=\"text-align: right;\">\n",
       "      <th></th>\n",
       "      <th>ID OMM station</th>\n",
       "      <th>Date</th>\n",
       "      <th>Pression au niveau mer</th>\n",
       "      <th>Variation de pression en 3 heures</th>\n",
       "      <th>Type de tendance barométrique</th>\n",
       "      <th>Direction du vent moyen 10 mn</th>\n",
       "      <th>Vitesse du vent moyen 10 mn</th>\n",
       "      <th>Température</th>\n",
       "      <th>Point de rosée</th>\n",
       "      <th>Humidité</th>\n",
       "      <th>...</th>\n",
       "      <th>Altitude</th>\n",
       "      <th>communes (name)</th>\n",
       "      <th>communes (code)</th>\n",
       "      <th>EPCI (name)</th>\n",
       "      <th>EPCI (code)</th>\n",
       "      <th>department (name)</th>\n",
       "      <th>department (code)</th>\n",
       "      <th>region (name)</th>\n",
       "      <th>region (code)</th>\n",
       "      <th>mois_de_l_annee</th>\n",
       "    </tr>\n",
       "  </thead>\n",
       "  <tbody>\n",
       "    <tr>\n",
       "      <th>0</th>\n",
       "      <td>7181</td>\n",
       "      <td>2016-07-12T11:00:00+02:00</td>\n",
       "      <td>101410.0</td>\n",
       "      <td>-30.0</td>\n",
       "      <td>8.0</td>\n",
       "      <td>230.0</td>\n",
       "      <td>2.9</td>\n",
       "      <td>293.35</td>\n",
       "      <td>286.55</td>\n",
       "      <td>65.0</td>\n",
       "      <td>...</td>\n",
       "      <td>336</td>\n",
       "      <td>Thuilley-aux-Groseilles</td>\n",
       "      <td>54523</td>\n",
       "      <td>CC du Pays de Colombey et du Sud Toulois</td>\n",
       "      <td>245400510.0</td>\n",
       "      <td>Meurthe-et-Moselle</td>\n",
       "      <td>54</td>\n",
       "      <td>Grand Est</td>\n",
       "      <td>44.0</td>\n",
       "      <td>7</td>\n",
       "    </tr>\n",
       "    <tr>\n",
       "      <th>1</th>\n",
       "      <td>81405</td>\n",
       "      <td>2017-01-08T07:00:00+01:00</td>\n",
       "      <td>101140.0</td>\n",
       "      <td>-140.0</td>\n",
       "      <td>8.0</td>\n",
       "      <td>240.0</td>\n",
       "      <td>0.5</td>\n",
       "      <td>297.25</td>\n",
       "      <td>296.25</td>\n",
       "      <td>94.0</td>\n",
       "      <td>...</td>\n",
       "      <td>4</td>\n",
       "      <td>Matoury</td>\n",
       "      <td>97307</td>\n",
       "      <td>CA du Centre Littoral</td>\n",
       "      <td>249730045.0</td>\n",
       "      <td>Guyane</td>\n",
       "      <td>973</td>\n",
       "      <td>Guyane</td>\n",
       "      <td>3.0</td>\n",
       "      <td>1</td>\n",
       "    </tr>\n",
       "    <tr>\n",
       "      <th>2</th>\n",
       "      <td>7627</td>\n",
       "      <td>2017-01-08T13:00:00+01:00</td>\n",
       "      <td>103380.0</td>\n",
       "      <td>-40.0</td>\n",
       "      <td>8.0</td>\n",
       "      <td>30.0</td>\n",
       "      <td>2.1</td>\n",
       "      <td>277.55</td>\n",
       "      <td>269.75</td>\n",
       "      <td>57.0</td>\n",
       "      <td>...</td>\n",
       "      <td>414</td>\n",
       "      <td>Lorp-Sentaraille</td>\n",
       "      <td>09289</td>\n",
       "      <td>CC Couserans-Pyrénées</td>\n",
       "      <td>200067940.0</td>\n",
       "      <td>Ariège</td>\n",
       "      <td>09</td>\n",
       "      <td>Occitanie</td>\n",
       "      <td>76.0</td>\n",
       "      <td>1</td>\n",
       "    </tr>\n",
       "    <tr>\n",
       "      <th>3</th>\n",
       "      <td>78894</td>\n",
       "      <td>2017-01-09T13:00:00+01:00</td>\n",
       "      <td>101760.0</td>\n",
       "      <td>0.0</td>\n",
       "      <td>NaN</td>\n",
       "      <td>100.0</td>\n",
       "      <td>2.3</td>\n",
       "      <td>298.15</td>\n",
       "      <td>291.35</td>\n",
       "      <td>66.0</td>\n",
       "      <td>...</td>\n",
       "      <td>44</td>\n",
       "      <td>NaN</td>\n",
       "      <td>NaN</td>\n",
       "      <td>NaN</td>\n",
       "      <td>NaN</td>\n",
       "      <td>NaN</td>\n",
       "      <td>NaN</td>\n",
       "      <td>NaN</td>\n",
       "      <td>NaN</td>\n",
       "      <td>1</td>\n",
       "    </tr>\n",
       "    <tr>\n",
       "      <th>4</th>\n",
       "      <td>7020</td>\n",
       "      <td>2017-01-12T13:00:00+01:00</td>\n",
       "      <td>100580.0</td>\n",
       "      <td>-710.0</td>\n",
       "      <td>8.0</td>\n",
       "      <td>210.0</td>\n",
       "      <td>11.9</td>\n",
       "      <td>282.05</td>\n",
       "      <td>280.15</td>\n",
       "      <td>88.0</td>\n",
       "      <td>...</td>\n",
       "      <td>6</td>\n",
       "      <td>La Hague</td>\n",
       "      <td>50041</td>\n",
       "      <td>CA du Cotentin</td>\n",
       "      <td>200067205.0</td>\n",
       "      <td>Manche</td>\n",
       "      <td>50</td>\n",
       "      <td>Normandie</td>\n",
       "      <td>28.0</td>\n",
       "      <td>1</td>\n",
       "    </tr>\n",
       "  </tbody>\n",
       "</table>\n",
       "<p>5 rows × 82 columns</p>\n",
       "</div>"
      ],
      "text/plain": [
       "   ID OMM station                       Date  Pression au niveau mer  \\\n",
       "0            7181  2016-07-12T11:00:00+02:00                101410.0   \n",
       "1           81405  2017-01-08T07:00:00+01:00                101140.0   \n",
       "2            7627  2017-01-08T13:00:00+01:00                103380.0   \n",
       "3           78894  2017-01-09T13:00:00+01:00                101760.0   \n",
       "4            7020  2017-01-12T13:00:00+01:00                100580.0   \n",
       "\n",
       "   Variation de pression en 3 heures  Type de tendance barométrique  \\\n",
       "0                              -30.0                            8.0   \n",
       "1                             -140.0                            8.0   \n",
       "2                              -40.0                            8.0   \n",
       "3                                0.0                            NaN   \n",
       "4                             -710.0                            8.0   \n",
       "\n",
       "   Direction du vent moyen 10 mn  Vitesse du vent moyen 10 mn  Température  \\\n",
       "0                          230.0                          2.9       293.35   \n",
       "1                          240.0                          0.5       297.25   \n",
       "2                           30.0                          2.1       277.55   \n",
       "3                          100.0                          2.3       298.15   \n",
       "4                          210.0                         11.9       282.05   \n",
       "\n",
       "   Point de rosée  Humidité  ...  Altitude          communes (name)  \\\n",
       "0          286.55      65.0  ...       336  Thuilley-aux-Groseilles   \n",
       "1          296.25      94.0  ...         4                  Matoury   \n",
       "2          269.75      57.0  ...       414         Lorp-Sentaraille   \n",
       "3          291.35      66.0  ...        44                      NaN   \n",
       "4          280.15      88.0  ...         6                 La Hague   \n",
       "\n",
       "   communes (code)                               EPCI (name)  EPCI (code)  \\\n",
       "0            54523  CC du Pays de Colombey et du Sud Toulois  245400510.0   \n",
       "1            97307                     CA du Centre Littoral  249730045.0   \n",
       "2            09289                     CC Couserans-Pyrénées  200067940.0   \n",
       "3              NaN                                       NaN          NaN   \n",
       "4            50041                            CA du Cotentin  200067205.0   \n",
       "\n",
       "    department (name)  department (code)  region (name)  region (code)  \\\n",
       "0  Meurthe-et-Moselle                 54      Grand Est           44.0   \n",
       "1              Guyane                973         Guyane            3.0   \n",
       "2              Ariège                 09      Occitanie           76.0   \n",
       "3                 NaN                NaN            NaN            NaN   \n",
       "4              Manche                 50      Normandie           28.0   \n",
       "\n",
       "   mois_de_l_annee  \n",
       "0                7  \n",
       "1                1  \n",
       "2                1  \n",
       "3                1  \n",
       "4                1  \n",
       "\n",
       "[5 rows x 82 columns]"
      ]
     },
     "execution_count": 2,
     "metadata": {},
     "output_type": "execute_result"
    }
   ],
   "source": [
    "data = pd.read_csv(\"./data/donnees-synop-essentielles-omm.csv\", sep=\";\")\n",
    "data.head()"
   ]
  },
  {
   "attachments": {},
   "cell_type": "markdown",
   "metadata": {},
   "source": [
    "On va découper les données par station afin de les manipuler plus simplement =\n",
    "- Le fichier data/stations.csv liste les stations avec leurs info géographiques\n",
    "- Le dossier data/mesures/ contient les fichiers csv des mesures réalisées par stations (un fichier par station)"
   ]
  },
  {
   "cell_type": "code",
   "execution_count": 4,
   "metadata": {},
   "outputs": [
    {
     "name": "stdout",
     "output_type": "stream",
     "text": [
      "table des stations enregistrée : 62 stations uniques\n"
     ]
    }
   ],
   "source": [
    "#table listant les stations ainsi que leurs infos fixe (nom, localisation, etc...)\n",
    "\n",
    "station_cols =   [\n",
    "    \"ID OMM station\", \"Nom\", \"Coordonnees\", \"Latitude\", \"Longitude\", \"Altitude\",\n",
    "    \"communes (name)\", \"communes (code)\",\n",
    "    \"EPCI (name)\", \"EPCI (code)\",\n",
    "    \"department (name)\", \"department (code)\",\n",
    "    \"region (name)\", \"region (code)\"\n",
    "]\n",
    "\n",
    "stations = data[station_cols].drop_duplicates(subset=\"ID OMM station\")\n",
    "\n",
    "stations.to_csv(\"./data/stations.csv\", index=False)\n",
    "print(f\"table des stations enregistrée : {stations.shape[0]} stations uniques\")\n"
   ]
  },
  {
   "cell_type": "code",
   "execution_count": 5,
   "metadata": {},
   "outputs": [
    {
     "name": "stdout",
     "output_type": "stream",
     "text": [
      "Fichiers de mesures créés (sans données géographiques) dans data/mesures/\n"
     ]
    }
   ],
   "source": [
    "#Créations des tables et csv des mesures pour chaques stations\n",
    "\n",
    "measure_cols = [col for col in data.columns if col not in station_cols]\n",
    "\n",
    "for station_id in stations[\"ID OMM station\"]:\n",
    "    station_data = data.loc[data[\"ID OMM station\"] == station_id, measure_cols]\n",
    "    \n",
    "    filename = f\"data/mesures/station_{station_id}.csv\"\n",
    "    station_data.to_csv(filename, index=False)\n",
    "\n",
    "print(\"Fichiers de mesures créés (sans données géographiques) dans data/mesures/\")"
   ]
  },
  {
   "cell_type": "code",
   "execution_count": null,
   "metadata": {},
   "outputs": [
    {
     "name": "stdout",
     "output_type": "stream",
     "text": [
      "[ 5 30 42 15 37 53 60 32 48 49]\n",
      "[ 7005  7015  7020  7027  7037  7072  7110  7117  7130  7139  7149  7168\n",
      "  7181  7190  7207  7222  7240  7255  7280  7299  7314  7335  7434  7460\n",
      "  7471  7481  7510  7535  7558  7577  7591  7607  7621  7627  7630  7643\n",
      "  7650  7661  7690  7747  7761  7790 61968 61970 61972 61976 61980 61996\n",
      " 61997 61998 67005 71805 78890 78894 78897 78922 78925 81401 81405 81408\n",
      " 81415 89642]\n",
      "[ 7072  7591 61968  7222  7661 78894 81415  7621 61997 61998]\n"
     ]
    }
   ],
   "source": [
    "extract = True\n",
    "n_extract = 10\n",
    "if extract :\n",
    "    # select some stations\n",
    "    stations = data[\"ID OMM station\"]\n",
    "    stations_unique = np.unique(stations)\n",
    "    chosen = np.random.choice(len(stations_unique), n_extract)\n",
    "    print(chosen)\n",
    "    print(stations_unique)\n",
    "    chosen_stations = stations_unique[chosen]\n",
    "    print(chosen_stations)\n",
    "    # extract stations\n",
    "    extracted_df = data.loc[data[\"ID OMM station\"].isin(chosen_stations)]\n",
    "    # save to csv\n",
    "    extracted_df.to_csv(f\"./data/donnees_extracted_{n_extract}.csv\", index=False)  \n"
   ]
  },
  {
   "cell_type": "code",
   "execution_count": null,
   "metadata": {},
   "outputs": [
    {
     "name": "stdout",
     "output_type": "stream",
     "text": [
      "[37  7 20 22 30  9 36 18 41 38 37 10 22 14 29  2 26 26 27  7]\n",
      "[7005 7015 7020 7027 7037 7072 7110 7117 7130 7139 7149 7168 7181 7190\n",
      " 7207 7222 7240 7255 7280 7299 7314 7335 7434 7460 7471 7481 7510 7535\n",
      " 7558 7577 7591 7607 7621 7627 7630 7643 7650 7661 7690 7747 7761 7790]\n",
      "[7661 7117 7314 7434 7591 7139 7650 7280 7790 7690 7661 7149 7434 7207\n",
      " 7577 7020 7510 7510 7535 7117]\n"
     ]
    }
   ],
   "source": [
    "# le même extract, mais en filtrant les dom-toms\n",
    "extract = True\n",
    "n_extract = 20\n",
    "if extract :\n",
    "    # select some stations\n",
    "    stations = data[\"ID OMM station\"]\n",
    "    stations_unique = np.unique(stations[stations < 10000])\n",
    "    chosen = np.random.choice(len(stations_unique), n_extract)\n",
    "    print(chosen)\n",
    "    print(stations_unique)\n",
    "    chosen_stations = stations_unique[chosen]\n",
    "    print(chosen_stations)\n",
    "    # extract stations\n",
    "    extracted_df = data.loc[data[\"ID OMM station\"].isin(chosen_stations)]\n",
    "    # save to csv\n",
    "    extracted_df.to_csv(f\"./data/donnees_extracted_metro_{n_extract}.csv\", index=False)  "
   ]
  },
  {
   "cell_type": "code",
   "execution_count": 3,
   "metadata": {},
   "outputs": [
    {
     "name": "stdout",
     "output_type": "stream",
     "text": [
      "[7005 7015 7020 7027 7037 7072 7110 7117 7130 7139 7149 7168 7181 7190\n",
      " 7207 7222 7240 7255 7280 7299 7314 7335 7434 7460 7471 7481 7510 7535\n",
      " 7558 7577 7591 7607 7621 7627 7630 7643 7650 7661 7690 7747 7761 7790]\n"
     ]
    }
   ],
   "source": [
    "# toutes les stations, en filtrant les dom-toms\n",
    "extract = True\n",
    "if extract :\n",
    "    # select some stations\n",
    "    stations = data[\"ID OMM station\"]\n",
    "    stations_unique = np.unique(stations[stations < 10000])\n",
    "    chosen_stations = stations_unique\n",
    "    print(chosen_stations)\n",
    "    # extract stations\n",
    "    extracted_df = data.loc[data[\"ID OMM station\"].isin(chosen_stations)]\n",
    "    # save to csv\n",
    "    extracted_df.to_csv(f\"./data/donnees_extracted_metro_all.csv\", index=False)  "
   ]
  }
 ],
 "metadata": {
  "kernelspec": {
   "display_name": ".sdd_venv",
   "language": "python",
   "name": "python3"
  },
  "language_info": {
   "codemirror_mode": {
    "name": "ipython",
    "version": 3
   },
   "file_extension": ".py",
   "mimetype": "text/x-python",
   "name": "python",
   "nbconvert_exporter": "python",
   "pygments_lexer": "ipython3",
   "version": "3.12.3"
  },
  "orig_nbformat": 4
 },
 "nbformat": 4,
 "nbformat_minor": 2
}
