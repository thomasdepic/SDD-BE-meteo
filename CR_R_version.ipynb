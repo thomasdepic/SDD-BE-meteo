{
 "cells": [
  {
   "cell_type": "markdown",
   "metadata": {},
   "source": [
    "# TP BE Météo"
   ]
  },
  {
   "cell_type": "markdown",
   "metadata": {},
   "source": [
    "## Chargement des données\n",
    "\n",
    "Lessgo"
   ]
  },
  {
   "cell_type": "code",
   "execution_count": null,
   "metadata": {
    "vscode": {
     "languageId": "r"
    }
   },
   "outputs": [],
   "source": [
    "data_body <- read.table(\"data/body.csv\", # Nom du fichier à importer\n",
    "                        header=TRUE,     # Utiliser la première ligne du fichier pour les noms des colonnes\n",
    "                        sep=\";\",         # Séparateur de champs\n",
    "                        dec=\",\",         # Séparateur décimal\n",
    "                        row.names=1)     # Utiliser la première colonne pour les noms des lignes"
   ]
  }
 ],
 "metadata": {
  "kernelspec": {
   "display_name": "R",
   "language": "R",
   "name": "ir"
  },
  "language_info": {
   "codemirror_mode": "r",
   "file_extension": ".r",
   "mimetype": "text/x-r-source",
   "name": "R",
   "pygments_lexer": "r",
   "version": "3.6.1"
  }
 },
 "nbformat": 4,
 "nbformat_minor": 4
}
